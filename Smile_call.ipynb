{
 "cells": [
  {
   "cell_type": "code",
   "execution_count": 1,
   "metadata": {},
   "outputs": [],
   "source": [
    "# Importing libraries\n",
    "from mibian import BS\n",
    "import pandas as pd\n",
    "import matplotlib.pyplot as plt"
   ]
  },
  {
   "cell_type": "code",
   "execution_count": 2,
   "metadata": {},
   "outputs": [
    {
     "name": "stdout",
     "output_type": "stream",
     "text": [
      "Requirement already satisfied: mibian in c:\\anaconda\\lib\\site-packages (0.1.3)\n",
      "Note: you may need to restart the kernel to use updated packages.\n"
     ]
    },
    {
     "name": "stderr",
     "output_type": "stream",
     "text": [
      "You are using pip version 18.1, however version 20.3.1 is available.\n",
      "You should consider upgrading via the 'python -m pip install --upgrade pip' command.\n"
     ]
    }
   ],
   "source": [
    "pip install mibian"
   ]
  },
  {
   "cell_type": "code",
   "execution_count": 3,
   "metadata": {},
   "outputs": [
    {
     "name": "stdout",
     "output_type": "stream",
     "text": [
      "   spot_price  strike  call price  time in days  IV\n",
      "0         215     190       26.60            23   0\n",
      "1         215     195       21.80            23   0\n",
      "2         215     200       17.45            23   0\n",
      "3         215     205       13.15            23   0\n",
      "4         215     210        9.40            23   0\n"
     ]
    }
   ],
   "source": [
    "# Fetching data and initializing the IV column\n",
    "call_microsoft = pd.read_csv(\"Call_microsoft.csv\", decimal=\",\",delimiter=';')\n",
    "call_microsoft['IV'] = 0\n",
    "print(call_microsoft.head())"
   ]
  },
  {
   "cell_type": "code",
   "execution_count": 4,
   "metadata": {},
   "outputs": [
    {
     "data": {
      "text/html": [
       "<div>\n",
       "<style scoped>\n",
       "    .dataframe tbody tr th:only-of-type {\n",
       "        vertical-align: middle;\n",
       "    }\n",
       "\n",
       "    .dataframe tbody tr th {\n",
       "        vertical-align: top;\n",
       "    }\n",
       "\n",
       "    .dataframe thead th {\n",
       "        text-align: right;\n",
       "    }\n",
       "</style>\n",
       "<table border=\"1\" class=\"dataframe\">\n",
       "  <thead>\n",
       "    <tr style=\"text-align: right;\">\n",
       "      <th></th>\n",
       "      <th>spot_price</th>\n",
       "      <th>strike</th>\n",
       "      <th>call price</th>\n",
       "      <th>time in days</th>\n",
       "      <th>IV</th>\n",
       "    </tr>\n",
       "  </thead>\n",
       "  <tbody>\n",
       "    <tr>\n",
       "      <th>0</th>\n",
       "      <td>215</td>\n",
       "      <td>190</td>\n",
       "      <td>26.600</td>\n",
       "      <td>23</td>\n",
       "      <td>0</td>\n",
       "    </tr>\n",
       "    <tr>\n",
       "      <th>1</th>\n",
       "      <td>215</td>\n",
       "      <td>195</td>\n",
       "      <td>21.800</td>\n",
       "      <td>23</td>\n",
       "      <td>0</td>\n",
       "    </tr>\n",
       "    <tr>\n",
       "      <th>2</th>\n",
       "      <td>215</td>\n",
       "      <td>200</td>\n",
       "      <td>17.450</td>\n",
       "      <td>23</td>\n",
       "      <td>0</td>\n",
       "    </tr>\n",
       "    <tr>\n",
       "      <th>3</th>\n",
       "      <td>215</td>\n",
       "      <td>205</td>\n",
       "      <td>13.150</td>\n",
       "      <td>23</td>\n",
       "      <td>0</td>\n",
       "    </tr>\n",
       "    <tr>\n",
       "      <th>4</th>\n",
       "      <td>215</td>\n",
       "      <td>210</td>\n",
       "      <td>9.400</td>\n",
       "      <td>23</td>\n",
       "      <td>0</td>\n",
       "    </tr>\n",
       "    <tr>\n",
       "      <th>...</th>\n",
       "      <td>...</td>\n",
       "      <td>...</td>\n",
       "      <td>...</td>\n",
       "      <td>...</td>\n",
       "      <td>...</td>\n",
       "    </tr>\n",
       "    <tr>\n",
       "      <th>86</th>\n",
       "      <td>215</td>\n",
       "      <td>230</td>\n",
       "      <td>10.625</td>\n",
       "      <td>156</td>\n",
       "      <td>0</td>\n",
       "    </tr>\n",
       "    <tr>\n",
       "      <th>87</th>\n",
       "      <td>215</td>\n",
       "      <td>235</td>\n",
       "      <td>8.950</td>\n",
       "      <td>156</td>\n",
       "      <td>0</td>\n",
       "    </tr>\n",
       "    <tr>\n",
       "      <th>88</th>\n",
       "      <td>215</td>\n",
       "      <td>240</td>\n",
       "      <td>7.575</td>\n",
       "      <td>156</td>\n",
       "      <td>0</td>\n",
       "    </tr>\n",
       "    <tr>\n",
       "      <th>89</th>\n",
       "      <td>215</td>\n",
       "      <td>245</td>\n",
       "      <td>6.225</td>\n",
       "      <td>156</td>\n",
       "      <td>0</td>\n",
       "    </tr>\n",
       "    <tr>\n",
       "      <th>90</th>\n",
       "      <td>215</td>\n",
       "      <td>250</td>\n",
       "      <td>5.200</td>\n",
       "      <td>156</td>\n",
       "      <td>0</td>\n",
       "    </tr>\n",
       "  </tbody>\n",
       "</table>\n",
       "<p>91 rows × 5 columns</p>\n",
       "</div>"
      ],
      "text/plain": [
       "    spot_price  strike  call price  time in days  IV\n",
       "0          215     190      26.600            23   0\n",
       "1          215     195      21.800            23   0\n",
       "2          215     200      17.450            23   0\n",
       "3          215     205      13.150            23   0\n",
       "4          215     210       9.400            23   0\n",
       "..         ...     ...         ...           ...  ..\n",
       "86         215     230      10.625           156   0\n",
       "87         215     235       8.950           156   0\n",
       "88         215     240       7.575           156   0\n",
       "89         215     245       6.225           156   0\n",
       "90         215     250       5.200           156   0\n",
       "\n",
       "[91 rows x 5 columns]"
      ]
     },
     "execution_count": 4,
     "metadata": {},
     "output_type": "execute_result"
    }
   ],
   "source": [
    "call_microsoft"
   ]
  },
  {
   "cell_type": "code",
   "execution_count": 5,
   "metadata": {},
   "outputs": [],
   "source": [
    " ## Calcul de la volatilité implicite.  \n",
    "for row in range(0,len(call_microsoft)):\n",
    "    underlyingPrice = call_microsoft.iloc[row]['spot_price']\n",
    "    strikePrice = call_microsoft.iloc[row]['strike']\n",
    "    interestRate = 0\n",
    "    daysToExpiration = call_microsoft.iloc[row]['time in days']\n",
    "    \n",
    "    callPrice = call_microsoft.iloc[row]['call price']\n",
    "    \n",
    "    result = BS([underlyingPrice, strikePrice, interestRate, daysToExpiration],\n",
    "                callPrice = callPrice)\n",
    "    \n",
    "    call_microsoft.iloc[row,call_microsoft.columns.get_loc('IV')] = result.impliedVolatility\n",
    "    "
   ]
  },
  {
   "cell_type": "code",
   "execution_count": 6,
   "metadata": {
    "scrolled": true
   },
   "outputs": [
    {
     "name": "stdout",
     "output_type": "stream",
     "text": [
      "    spot_price  strike  call price  time in days         IV        date\n",
      "0          215     190      26.600            23  44.921875  27/11/2020\n",
      "1          215     195      21.800            23  40.039062  27/11/2020\n",
      "2          215     200      17.450            23  37.292480  27/11/2020\n",
      "3          215     205      13.150            23  33.569336  27/11/2020\n",
      "4          215     210       9.400            23  31.250000  27/11/2020\n",
      "..         ...     ...         ...           ...        ...         ...\n",
      "86         215     230      10.625           156  29.502869  27/11/2020\n",
      "87         215     235       8.950           156  29.235840  27/11/2020\n",
      "88         215     240       7.575           156  29.184341  27/11/2020\n",
      "89         215     245       6.225           156  28.800964  27/11/2020\n",
      "90         215     250       5.200           156  28.808594  27/11/2020\n",
      "\n",
      "[91 rows x 6 columns]\n"
     ]
    }
   ],
   "source": [
    "call_microsoft['date']= \"27/11/2020\"\n",
    "print(call_microsoft)"
   ]
  },
  {
   "cell_type": "code",
   "execution_count": null,
   "metadata": {},
   "outputs": [],
   "source": []
  },
  {
   "cell_type": "code",
   "execution_count": 11,
   "metadata": {},
   "outputs": [],
   "source": [
    "# Plotting the volatility smile\n",
    "def Plot_smile(date):\n",
    "    option_data = call_microsoft[call_microsoft['date'] == date]\n",
    "    plt.plot(option_data['strike'],option_data['IV'])\n",
    "    plt.legend(option_data['date'])\n",
    "    plt.ylabel('Implied Volatility')\n",
    "    plt.xlabel('Strike Price')           \n",
    "    plt.show()"
   ]
  },
  {
   "cell_type": "code",
   "execution_count": 12,
   "metadata": {},
   "outputs": [
    {
     "data": {
      "image/png": "[encoded data removed]",
      "text/plain": [
       "<Figure size 432x288 with 1 Axes>"
      ]
     },
     "metadata": {
      "needs_background": "light"
     },
     "output_type": "display_data"
    }
   ],
   "source": [
    "Plot_smile(\"27/11/2020\")"
   ]
  },
  {
   "cell_type": "code",
   "execution_count": 8,
   "metadata": {},
   "outputs": [
    {
     "ename": "SyntaxError",
     "evalue": "Missing parentheses in call to 'print'. Did you mean print(\"\\nKindly enter a valid date.\\n\")? (<ipython-input-8-0a04b6a25edf>, line 10)",
     "output_type": "error",
     "traceback": [
      "\u001b[1;36m  File \u001b[1;32m\"<ipython-input-8-0a04b6a25edf>\"\u001b[1;36m, line \u001b[1;32m10\u001b[0m\n\u001b[1;33m    print \"\\nKindly enter a valid date.\\n\"\u001b[0m\n\u001b[1;37m          ^\u001b[0m\n\u001b[1;31mSyntaxError\u001b[0m\u001b[1;31m:\u001b[0m Missing parentheses in call to 'print'. Did you mean print(\"\\nKindly enter a valid date.\\n\")?\n"
     ]
    }
   ],
   "source": [
    "# Taking input date and calling the Plot_smile() function\n",
    "def Take_input():\n",
    "    smile_date = raw_input(\"Enter the date for plotting Volatility Smile in the format dd-mm-yyyy: \")\n",
    "    date_check = 0\n",
    "    for date in call_microsoft['date']:\n",
    "        if date == smile_date:\n",
    "            Plot_smile(smile_date)\n",
    "            break\n",
    "    else:\n",
    "        print \"\\nKindly enter a valid date.\\n\"\n",
    "        Take_input()"
   ]
  }
 ],
 "metadata": {
  "kernelspec": {
   "display_name": "Python 3",
   "language": "python",
   "name": "python3"
  },
  "language_info": {
   "codemirror_mode": {
    "name": "ipython",
    "version": 3
   },
   "file_extension": ".py",
   "mimetype": "text/x-python",
   "name": "python",
   "nbconvert_exporter": "python",
   "pygments_lexer": "ipython3",
   "version": "3.8.3"
  }
 },
 "nbformat": 4,
 "nbformat_minor": 4
}
